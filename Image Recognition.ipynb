{
 "cells": [
  {
   "cell_type": "code",
   "execution_count": 1,
   "id": "85356221",
   "metadata": {},
   "outputs": [],
   "source": [
    "import numpy as np\n",
    "import pandas as pd\n",
    "%matplotlib inline\n",
    "import matplotlib as mlp\n",
    "import matplotlib.pyplot as plt"
   ]
  },
  {
   "cell_type": "code",
   "execution_count": 2,
   "id": "7ad77d07",
   "metadata": {},
   "outputs": [],
   "source": [
    "import tensorflow as tf\n",
    "from tensorflow import keras"
   ]
  },
  {
   "cell_type": "code",
   "execution_count": 3,
   "id": "08e5a726",
   "metadata": {},
   "outputs": [],
   "source": [
    "test_dir='C:/Users/apurv/Downloads/test'\n",
    "train_dir='C:/Users/apurv/Downloads/train'\n",
    "validation_dir='C:/Users/apurv/Downloads/validation'"
   ]
  },
  {
   "cell_type": "code",
   "execution_count": 4,
   "id": "aa5c54b3",
   "metadata": {},
   "outputs": [],
   "source": [
    "# Data Pre-processing\n",
    "from keras_preprocessing.image import ImageDataGenerator"
   ]
  },
  {
   "cell_type": "code",
   "execution_count": 5,
   "id": "cd3d2381",
   "metadata": {},
   "outputs": [
    {
     "name": "stdout",
     "output_type": "stream",
     "text": [
      "Found 2000 images belonging to 2 classes.\n",
      "Found 1000 images belonging to 2 classes.\n"
     ]
    }
   ],
   "source": [
    "train_datagen= ImageDataGenerator(rescale=1./255)    # train_datagen is an object that will rescale later on.\n",
    "test_datagen= ImageDataGenerator(rescale=1./255)     # test_datagen is an object that will rescale later on.\n",
    "# ImageDataGenerator can be used to rescale , zoom, shear etc ;images which are given as input.\n",
    "\n",
    "train_generator= train_datagen. flow_from_directory(\n",
    "                      train_dir,                    # images will be taken from 'train directory'\n",
    "                      target_size=(150,150),         # after resizing, size will be 150px x 150px\n",
    "                      batch_size= 20,                #picking 20 images at a time.\n",
    "                      class_mode='binary'           # As it is a binary classification(cat or dog), so, it will generate a 'y' variable showing 'cat' or 'dog'.\n",
    ")\n",
    "\n",
    "validation_generator= test_datagen. flow_from_directory(\n",
    "                         validation_dir,\n",
    "                         target_size=(150,150),\n",
    "                         batch_size=20,\n",
    "                         class_mode='binary'\n",
    ")"
   ]
  },
  {
   "cell_type": "code",
   "execution_count": 6,
   "id": "f5672b04",
   "metadata": {},
   "outputs": [],
   "source": [
    "from tensorflow.keras import layers\n",
    "from tensorflow.keras import models"
   ]
  },
  {
   "cell_type": "code",
   "execution_count": 7,
   "id": "6f57e469",
   "metadata": {},
   "outputs": [],
   "source": [
    "# creating CNN\n",
    "model=models.Sequential()\n",
    "# adding 4 convolutionary layers\n",
    "# more convolutionary layer, more feature maps, more overlapping, lesser errors \n",
    "# A general practise: Convolutionary layer width (i.e. number of filters) must increase (or double) with each \n",
    "# next convolutionary layer and as we are using maxpooling layer,\n",
    "#  which does not overlapp and reduced the size , so, our picture size must decrease with each convolutionary layer.\n",
    "# So, layer width must increase and picture size must decrease.\n",
    "model.add(layers.Conv2D(32,(3,3),activation=\"relu\",input_shape=(150,150,3)))  # as it coloured image, so, we require  \n",
    "                                                                                                     # 3 R,G,B colour filters.\n",
    "model.add(layers.MaxPooling2D((2,2)))\n",
    "\n",
    "model.add(layers.Conv2D(64,(3,3),activation=\"relu\"))\n",
    "model.add(layers.MaxPooling2D((2,2)))\n",
    "\n",
    "model.add(layers.Conv2D(128,(3,3),activation=\"relu\"))\n",
    "model.add(layers.MaxPooling2D((2,2)))\n",
    "\n",
    "model.add(layers.Conv2D(128,(3,3),activation=\"relu\"))\n",
    "model.add(layers.MaxPooling2D((2,2)))\n",
    "# Followed by ANN \n",
    "model.add(layers.Flatten())\n",
    "model.add(layers.Dense(512,activation=\"relu\"))\n",
    "model.add(layers.Dense(1,activation=\"sigmoid\"))"
   ]
  },
  {
   "cell_type": "code",
   "execution_count": 8,
   "id": "194cc581",
   "metadata": {},
   "outputs": [
    {
     "name": "stdout",
     "output_type": "stream",
     "text": [
      "Model: \"sequential\"\n",
      "_________________________________________________________________\n",
      " Layer (type)                Output Shape              Param #   \n",
      "=================================================================\n",
      " conv2d (Conv2D)             (None, 148, 148, 32)      896       \n",
      "                                                                 \n",
      " max_pooling2d (MaxPooling2D  (None, 74, 74, 32)       0         \n",
      " )                                                               \n",
      "                                                                 \n",
      " conv2d_1 (Conv2D)           (None, 72, 72, 64)        18496     \n",
      "                                                                 \n",
      " max_pooling2d_1 (MaxPooling  (None, 36, 36, 64)       0         \n",
      " 2D)                                                             \n",
      "                                                                 \n",
      " conv2d_2 (Conv2D)           (None, 34, 34, 128)       73856     \n",
      "                                                                 \n",
      " max_pooling2d_2 (MaxPooling  (None, 17, 17, 128)      0         \n",
      " 2D)                                                             \n",
      "                                                                 \n",
      " conv2d_3 (Conv2D)           (None, 15, 15, 128)       147584    \n",
      "                                                                 \n",
      " max_pooling2d_3 (MaxPooling  (None, 7, 7, 128)        0         \n",
      " 2D)                                                             \n",
      "                                                                 \n",
      " flatten (Flatten)           (None, 6272)              0         \n",
      "                                                                 \n",
      " dense (Dense)               (None, 512)               3211776   \n",
      "                                                                 \n",
      " dense_1 (Dense)             (None, 1)                 513       \n",
      "                                                                 \n",
      "=================================================================\n",
      "Total params: 3,453,121\n",
      "Trainable params: 3,453,121\n",
      "Non-trainable params: 0\n",
      "_________________________________________________________________\n"
     ]
    }
   ],
   "source": [
    "model.summary()"
   ]
  },
  {
   "cell_type": "code",
   "execution_count": 9,
   "id": "80b6dcf0",
   "metadata": {},
   "outputs": [
    {
     "name": "stderr",
     "output_type": "stream",
     "text": [
      "C:\\Users\\apurv\\AppData\\Roaming\\Python\\Python39\\site-packages\\keras\\optimizers\\optimizer_v2\\rmsprop.py:140: UserWarning: The `lr` argument is deprecated, use `learning_rate` instead.\n",
      "  super().__init__(name, **kwargs)\n"
     ]
    }
   ],
   "source": [
    "from tensorflow.keras import optimizers\n",
    "model.compile(loss=\"binary_crossentropy\",\n",
    "              optimizer=optimizers.RMSprop(lr=1e-4),\n",
    "              #RMSprop is often used in image processing and is better than stochastic gradient descent in context of \n",
    "              #                                                                                                image processing.\n",
    "              metrics=['acc'])"
   ]
  },
  {
   "cell_type": "code",
   "execution_count": 10,
   "id": "3e2c41f7",
   "metadata": {},
   "outputs": [
    {
     "name": "stdout",
     "output_type": "stream",
     "text": [
      "Epoch 1/20\n",
      "100/100 [==============================] - 72s 711ms/step - loss: 0.6886 - acc: 0.5390 - val_loss: 0.6797 - val_acc: 0.5290\n",
      "Epoch 2/20\n",
      "100/100 [==============================] - 69s 685ms/step - loss: 0.6567 - acc: 0.6225 - val_loss: 0.6472 - val_acc: 0.6150\n",
      "Epoch 3/20\n",
      "100/100 [==============================] - 69s 694ms/step - loss: 0.6124 - acc: 0.6620 - val_loss: 0.6149 - val_acc: 0.6530\n",
      "Epoch 4/20\n",
      "100/100 [==============================] - 67s 668ms/step - loss: 0.5635 - acc: 0.7095 - val_loss: 0.5949 - val_acc: 0.6820\n",
      "Epoch 5/20\n",
      "100/100 [==============================] - 69s 691ms/step - loss: 0.5261 - acc: 0.7250 - val_loss: 0.6322 - val_acc: 0.6550\n",
      "Epoch 6/20\n",
      "100/100 [==============================] - 69s 687ms/step - loss: 0.5113 - acc: 0.7510 - val_loss: 0.5735 - val_acc: 0.6850\n",
      "Epoch 7/20\n",
      "100/100 [==============================] - 72s 720ms/step - loss: 0.4804 - acc: 0.7745 - val_loss: 0.5583 - val_acc: 0.7090\n",
      "Epoch 8/20\n",
      "100/100 [==============================] - 68s 681ms/step - loss: 0.4545 - acc: 0.7870 - val_loss: 0.6247 - val_acc: 0.6880\n",
      "Epoch 9/20\n",
      "100/100 [==============================] - 64s 641ms/step - loss: 0.4250 - acc: 0.8015 - val_loss: 0.5688 - val_acc: 0.7170\n",
      "Epoch 10/20\n",
      "100/100 [==============================] - 71s 713ms/step - loss: 0.4000 - acc: 0.8135 - val_loss: 0.5708 - val_acc: 0.7120\n",
      "Epoch 11/20\n",
      "100/100 [==============================] - 69s 689ms/step - loss: 0.3807 - acc: 0.8330 - val_loss: 0.5470 - val_acc: 0.7250\n",
      "Epoch 12/20\n",
      "100/100 [==============================] - 72s 723ms/step - loss: 0.3535 - acc: 0.8400 - val_loss: 0.5512 - val_acc: 0.7280\n",
      "Epoch 13/20\n",
      "100/100 [==============================] - 66s 659ms/step - loss: 0.3278 - acc: 0.8600 - val_loss: 0.5575 - val_acc: 0.7330\n",
      "Epoch 14/20\n",
      "100/100 [==============================] - 61s 607ms/step - loss: 0.3090 - acc: 0.8695 - val_loss: 0.5682 - val_acc: 0.7260\n",
      "Epoch 15/20\n",
      "100/100 [==============================] - 69s 689ms/step - loss: 0.2850 - acc: 0.8805 - val_loss: 0.5591 - val_acc: 0.7310\n",
      "Epoch 16/20\n",
      "100/100 [==============================] - 75s 750ms/step - loss: 0.2622 - acc: 0.8975 - val_loss: 0.5925 - val_acc: 0.7260\n",
      "Epoch 17/20\n",
      "100/100 [==============================] - 71s 711ms/step - loss: 0.2320 - acc: 0.9155 - val_loss: 0.6500 - val_acc: 0.7270\n",
      "Epoch 18/20\n",
      "100/100 [==============================] - 74s 741ms/step - loss: 0.2135 - acc: 0.9260 - val_loss: 0.6040 - val_acc: 0.7340\n",
      "Epoch 19/20\n",
      "100/100 [==============================] - 76s 765ms/step - loss: 0.1928 - acc: 0.9320 - val_loss: 0.6071 - val_acc: 0.7370\n",
      "Epoch 20/20\n",
      "100/100 [==============================] - 72s 723ms/step - loss: 0.1716 - acc: 0.9380 - val_loss: 0.6494 - val_acc: 0.7280\n"
     ]
    }
   ],
   "source": [
    "history=model.fit(\n",
    "              train_generator,\n",
    "              steps_per_epoch=100,\n",
    "              epochs=20,\n",
    "              validation_data=validation_generator,\n",
    "              validation_steps=50\n",
    ")"
   ]
  },
  {
   "cell_type": "code",
   "execution_count": 11,
   "id": "b8719665",
   "metadata": {},
   "outputs": [],
   "source": [
    "# we have used directories, in this project, because the input which which we have been given are in form of Folders and not\n",
    "#  individual files and images, hence, they are so-called as' directory' of images.\n",
    "# we have batch_size=20 means at a time 20 images will be taken from the directory and will be rescaled.\n",
    "# since, batch_size=20 so,\n",
    "#  as epoch is 20 so, steps_per-epoch= total number of images in folder / batch_size\n",
    "#                                    =   2000/ 20 =1000\n",
    "#  given, train has 2000 images\n",
    "# validation has 1000 images,so,\n",
    "# validation_steps= t(n(images in validation folder)) / batch_size\n",
    "#                 =   1000 / 20\n",
    "#                 =   50\n",
    "# Test data also has 1000 images for testing."
   ]
  },
  {
   "cell_type": "code",
   "execution_count": 12,
   "id": "a30c9fbd",
   "metadata": {},
   "outputs": [
    {
     "data": {
      "image/png": "[encoded data removed]",
      "text/plain": [
       "<Figure size 800x500 with 1 Axes>"
      ]
     },
     "metadata": {},
     "output_type": "display_data"
    }
   ],
   "source": [
    "pd.DataFrame(history.history).plot(figsize=(8,5))\n",
    "plt.grid()\n",
    "plt.gca().set_ylim(0,1)\n",
    "plt.show()"
   ]
  },
  {
   "cell_type": "code",
   "execution_count": 13,
   "id": "075f3063",
   "metadata": {},
   "outputs": [
    {
     "name": "stdout",
     "output_type": "stream",
     "text": [
      "Found 1000 images belonging to 2 classes.\n",
      "50/50 [==============================] - 9s 187ms/step - loss: 0.6494 - acc: 0.7280\n"
     ]
    },
    {
     "data": {
      "text/plain": [
       "[0.6494104862213135, 0.7279999852180481]"
      ]
     },
     "execution_count": 13,
     "metadata": {},
     "output_type": "execute_result"
    }
   ],
   "source": [
    "test_generator= test_datagen. flow_from_directory(\n",
    "                         validation_dir,\n",
    "                         target_size=(150,150),\n",
    "                         batch_size=20,\n",
    "                         class_mode='binary'\n",
    ")\n",
    "\n",
    "model.evaluate(test_generator,steps=50)"
   ]
  },
  {
   "cell_type": "code",
   "execution_count": 14,
   "id": "a259648e",
   "metadata": {},
   "outputs": [],
   "source": [
    "# Test data has 1000 images for testing, we have entered them in steps of 50."
   ]
  },
  {
   "cell_type": "code",
   "execution_count": 15,
   "id": "994c480a",
   "metadata": {},
   "outputs": [],
   "source": [
    "# low training error and high testing/validation error = overfitting\n",
    "# high training error and high test/validation error= underfitting"
   ]
  },
  {
   "cell_type": "code",
   "execution_count": 16,
   "id": "4f10994e",
   "metadata": {},
   "outputs": [],
   "source": [
    "# in our model, we can see training error is nearly 20% but validation error is nearly 60% ,so, training error is low and \n",
    "# validation  error is high , hence, it is clearly 'over-fiting'."
   ]
  },
  {
   "cell_type": "code",
   "execution_count": 17,
   "id": "b94d0ff3",
   "metadata": {},
   "outputs": [],
   "source": [
    "model.save(\"model.h5\")  # h5 is HDF i.e. High Data Hierarchy file which is used to store files having large amount of data.\n",
    "# As we have stored this model, so, even if we delete this model , we can easily retrieve it for fututre works."
   ]
  },
  {
   "cell_type": "code",
   "execution_count": 18,
   "id": "a3381be4",
   "metadata": {},
   "outputs": [],
   "source": [
    "from tensorflow.keras import backend as K\n",
    "K.clear_session()   # clears history\n",
    "del model    # deletes model to create a new model"
   ]
  },
  {
   "cell_type": "markdown",
   "id": "8916982a",
   "metadata": {},
   "source": [
    "# Data Augmentation: To avoid OVER-FITTING: Use of Dropout Layer"
   ]
  },
  {
   "cell_type": "code",
   "execution_count": 19,
   "id": "b12a5fb0",
   "metadata": {},
   "outputs": [],
   "source": [
    "# We can do a large number of operations on images:\n",
    "# 1. Shearing / Shear: Converting a square image as if it is being pulled ,so, as to convert it to rhombus.\n",
    "# 2. Rotation: rotataing the image\n",
    "# 3. Width_shift: Shifting the image along width.\n",
    "# 4. Height_shift: Shifting the image along height.\n",
    "\n",
    "# Through the use of 'Data Augmentation' , we will create 'dummy data'."
   ]
  },
  {
   "cell_type": "code",
   "execution_count": 20,
   "id": "3119be4f",
   "metadata": {},
   "outputs": [
    {
     "name": "stdout",
     "output_type": "stream",
     "text": [
      "Found 2000 images belonging to 2 classes.\n",
      "Found 1000 images belonging to 2 classes.\n"
     ]
    }
   ],
   "source": [
    "# Pre-processing:\n",
    "from keras_preprocessing.image import ImageDataGenerator\n",
    "train_datagen= ImageDataGenerator(  #'train_datagen' is an object which will do properties which are in its parenthesis.\n",
    "       rescale= 1./255,             # rescaling pixels in between 0 and 1.\n",
    "       rotation_range=40,           # rotation will be done by any random angle between -40 to +40 degrees.\n",
    "       width_shift_range=0.2,       # img will be shifted by any random length from 0 to 20% of its width along the width.\n",
    "       height_shift_range=0.2,      # img will be shifted by any random length from 0 to 20% of its height along the height.\n",
    "       shear_range=0.2,             # shearing will slant the image.\n",
    "                                    # shear range of 0.2 means image will be slanted by random value from 0 to 0.2 degrees.\n",
    "       zoom_range=0.2,               # zoom in or zoom out by any random value from 0 to 20 %.\n",
    "       horizontal_flip= True)       # Create mirror image about any vertical axis of image.\n",
    "\n",
    "test_datagen= ImageDataGenerator(rescale=1./255)\n",
    "\n",
    "train_generator= train_datagen.flow_from_directory(\n",
    "            train_dir,               # this is the directory from which images will flow out.\n",
    "            target_size=(150,150),\n",
    "            batch_size=32,\n",
    "            class_mode='binary'\n",
    "            )\n",
    "# NOTE:As only training data is 'over-fitting' ,so, we apply 'train_datagen' only on 'train_dir'.\n",
    "validation_generator=test_datagen.flow_from_directory(\n",
    "             validation_dir,      # this is the directory from which images will flow out.\n",
    "             target_size=(150,150),\n",
    "             batch_size=32,\n",
    "             class_mode='binary'\n",
    "              )"
   ]
  },
  {
   "cell_type": "code",
   "execution_count": 21,
   "id": "a70e44e8",
   "metadata": {},
   "outputs": [],
   "source": [
    "# Creating Architecture:\n",
    "# creating CNN\n",
    "model=models.Sequential()\n",
    "model.add(layers.Conv2D(32,(3,3),activation=\"relu\",input_shape=(150,150,3))) \n",
    "model.add(layers.MaxPooling2D((2,2)))\n",
    "\n",
    "model.add(layers.Conv2D(64,(3,3),activation=\"relu\"))\n",
    "model.add(layers.MaxPooling2D((2,2)))\n",
    "\n",
    "model.add(layers.Conv2D(128,(3,3),activation=\"relu\"))\n",
    "model.add(layers.MaxPooling2D((2,2)))\n",
    "\n",
    "model.add(layers.Conv2D(128,(3,3),activation=\"relu\"))\n",
    "model.add(layers.MaxPooling2D((2,2)))\n",
    "\n",
    "# Followed by ANN \n",
    "model.add(layers.Flatten())\n",
    "\n",
    "model.add(layers.Dropout(0.5))   ###\n",
    "# 'Dropout' is a very effective layer to avoid over-fitting. Here, 0.5 means the dropout layer will randomly select 50% neurons\n",
    "#   for further considerations and will deactivate the remaining 50% ,hence, avoiding 'over-fitting'.\n",
    "\n",
    "model.add(layers.Dense(512,activation=\"relu\"))\n",
    "model.add(layers.Dense(1,activation=\"sigmoid\"))"
   ]
  },
  {
   "cell_type": "code",
   "execution_count": 22,
   "id": "4668f00b",
   "metadata": {},
   "outputs": [],
   "source": [
    "# compiling:\n",
    "from tensorflow.keras import optimizers\n",
    "model.compile(loss=\"binary_crossentropy\",\n",
    "              optimizer=optimizers.RMSprop(lr=1e-4),\n",
    "              metrics=['acc'])"
   ]
  },
  {
   "cell_type": "code",
   "execution_count": 23,
   "id": "fe67fa6c",
   "metadata": {},
   "outputs": [
    {
     "name": "stdout",
     "output_type": "stream",
     "text": [
      "Epoch 1/25\n",
      "25/25 [==============================] - 40s 2s/step - loss: 0.6973 - acc: 0.5050 - val_loss: 0.6906 - val_acc: 0.5650\n",
      "Epoch 2/25\n",
      "25/25 [==============================] - 31s 1s/step - loss: 0.6952 - acc: 0.4700 - val_loss: 0.6872 - val_acc: 0.5188\n",
      "Epoch 3/25\n",
      "25/25 [==============================] - 28s 1s/step - loss: 0.6935 - acc: 0.4950 - val_loss: 0.6877 - val_acc: 0.5150\n",
      "Epoch 4/25\n",
      "25/25 [==============================] - 26s 1s/step - loss: 0.6882 - acc: 0.5255 - val_loss: 0.6892 - val_acc: 0.5200\n",
      "Epoch 5/25\n",
      "25/25 [==============================] - 26s 1s/step - loss: 0.6896 - acc: 0.5421 - val_loss: 0.6826 - val_acc: 0.5850\n",
      "Epoch 6/25\n",
      "25/25 [==============================] - 28s 1s/step - loss: 0.6839 - acc: 0.5574 - val_loss: 0.6702 - val_acc: 0.6037\n",
      "Epoch 7/25\n",
      "25/25 [==============================] - 31s 1s/step - loss: 0.6759 - acc: 0.5804 - val_loss: 0.6966 - val_acc: 0.5188\n",
      "Epoch 8/25\n",
      "25/25 [==============================] - 29s 1s/step - loss: 0.6754 - acc: 0.5838 - val_loss: 0.6568 - val_acc: 0.5950\n",
      "Epoch 9/25\n",
      "25/25 [==============================] - 29s 1s/step - loss: 0.6716 - acc: 0.5950 - val_loss: 0.6558 - val_acc: 0.6175\n",
      "Epoch 10/25\n",
      "25/25 [==============================] - 30s 1s/step - loss: 0.6687 - acc: 0.5863 - val_loss: 0.6655 - val_acc: 0.5888\n",
      "Epoch 11/25\n",
      "25/25 [==============================] - 30s 1s/step - loss: 0.6634 - acc: 0.6112 - val_loss: 0.6412 - val_acc: 0.6350\n",
      "Epoch 12/25\n",
      "25/25 [==============================] - 31s 1s/step - loss: 0.6648 - acc: 0.5918 - val_loss: 0.6523 - val_acc: 0.5950\n",
      "Epoch 13/25\n",
      "25/25 [==============================] - 30s 1s/step - loss: 0.6632 - acc: 0.6084 - val_loss: 0.6497 - val_acc: 0.6037\n",
      "Epoch 14/25\n",
      "25/25 [==============================] - 29s 1s/step - loss: 0.6498 - acc: 0.6161 - val_loss: 0.6565 - val_acc: 0.5850\n",
      "Epoch 15/25\n",
      "25/25 [==============================] - 29s 1s/step - loss: 0.6461 - acc: 0.6237 - val_loss: 0.6628 - val_acc: 0.5850\n",
      "Epoch 16/25\n",
      "25/25 [==============================] - 31s 1s/step - loss: 0.6270 - acc: 0.6313 - val_loss: 0.6265 - val_acc: 0.6475\n",
      "Epoch 17/25\n",
      "25/25 [==============================] - 30s 1s/step - loss: 0.6477 - acc: 0.6175 - val_loss: 0.6305 - val_acc: 0.6350\n",
      "Epoch 18/25\n",
      "25/25 [==============================] - 30s 1s/step - loss: 0.6303 - acc: 0.6276 - val_loss: 0.6173 - val_acc: 0.6675\n",
      "Epoch 19/25\n",
      "25/25 [==============================] - 30s 1s/step - loss: 0.6326 - acc: 0.6413 - val_loss: 0.6290 - val_acc: 0.6375\n",
      "Epoch 20/25\n",
      "25/25 [==============================] - 33s 1s/step - loss: 0.6296 - acc: 0.6390 - val_loss: 0.6516 - val_acc: 0.6112\n",
      "Epoch 21/25\n",
      "25/25 [==============================] - 30s 1s/step - loss: 0.6214 - acc: 0.6620 - val_loss: 0.8020 - val_acc: 0.5337\n",
      "Epoch 22/25\n",
      "25/25 [==============================] - 31s 1s/step - loss: 0.6441 - acc: 0.6224 - val_loss: 0.6120 - val_acc: 0.6400\n",
      "Epoch 23/25\n",
      "25/25 [==============================] - 33s 1s/step - loss: 0.6225 - acc: 0.6505 - val_loss: 0.5857 - val_acc: 0.6963\n",
      "Epoch 24/25\n",
      "25/25 [==============================] - 31s 1s/step - loss: 0.6048 - acc: 0.6737 - val_loss: 0.6179 - val_acc: 0.6450\n",
      "Epoch 25/25\n",
      "25/25 [==============================] - 28s 1s/step - loss: 0.6157 - acc: 0.6569 - val_loss: 0.6065 - val_acc: 0.6712\n"
     ]
    }
   ],
   "source": [
    "history=model.fit(\n",
    "              train_generator,\n",
    "              steps_per_epoch=25,\n",
    "    # taking more images here, as many dummy images will also be generated here.\n",
    "              epochs=25,\n",
    "              validation_data=validation_generator,\n",
    "              validation_steps=25\n",
    ")"
   ]
  },
  {
   "cell_type": "code",
   "execution_count": 24,
   "id": "ecf06bcf",
   "metadata": {},
   "outputs": [
    {
     "name": "stdout",
     "output_type": "stream",
     "text": [
      "Found 1000 images belonging to 2 classes.\n",
      "50/50 [==============================] - 9s 172ms/step - loss: 0.5963 - acc: 0.6840\n"
     ]
    },
    {
     "data": {
      "text/plain": [
       "[0.5962955951690674, 0.6840000152587891]"
      ]
     },
     "execution_count": 24,
     "metadata": {},
     "output_type": "execute_result"
    }
   ],
   "source": [
    "model.save(\"project_cnn.h5\")\n",
    "test_generator= test_datagen. flow_from_directory(\n",
    "                         validation_dir,\n",
    "                         target_size=(150,150),\n",
    "                         batch_size=20,\n",
    "                         class_mode='binary'\n",
    ")\n",
    "\n",
    "model.evaluate(test_generator,steps=50)"
   ]
  },
  {
   "cell_type": "code",
   "execution_count": 25,
   "id": "a2224b9d",
   "metadata": {},
   "outputs": [
    {
     "data": {
      "image/png": "[encoded data removed]",
      "text/plain": [
       "<Figure size 800x500 with 1 Axes>"
      ]
     },
     "metadata": {},
     "output_type": "display_data"
    }
   ],
   "source": [
    "pd.DataFrame(history.history).plot(figsize=(8,5))\n",
    "plt.grid()\n",
    "plt.gca().set_ylim(0,1)\n",
    "plt.show()"
   ]
  },
  {
   "cell_type": "code",
   "execution_count": 26,
   "id": "b7f13748",
   "metadata": {},
   "outputs": [],
   "source": [
    "# as training accuracy and validation accuracy are now near-by so, we have successfully overcome 'Over-fitting' through 'image\n",
    "#  preprocessing' and creating 'dummy images'."
   ]
  },
  {
   "cell_type": "markdown",
   "id": "d5bec0c4",
   "metadata": {},
   "source": [
    "# Transfer Learning: To increase the accuracy"
   ]
  },
  {
   "cell_type": "code",
   "execution_count": 27,
   "id": "306c7aa4",
   "metadata": {},
   "outputs": [],
   "source": [
    "# Every CNN model has 2 parts: 1.Convolution base 2.Fully Connected Neural Network\n",
    "# The 'convolution base' in our project performs the task of identifying the facial properties of cats and dogs like 'eyes',\n",
    "# 'whiskers' etc and the convolution base which we have created here, will work for many other similar classification problems.\n",
    "# So, we can conclude that 'convolution base' will perform similar tasks with similar accuracy in many other classification\n",
    "# problems.\n",
    "# But Fully connected neural network, will work only in specific classification problems like in our project, it uses 'eyes',\n",
    "# 'whiskers' etc from 'convolution base' to classify it as 'cats' or 'dogs'."
   ]
  },
  {
   "cell_type": "code",
   "execution_count": 28,
   "id": "a8cc68d0",
   "metadata": {},
   "outputs": [],
   "source": [
    "# NOTE:\n",
    "# The accuracy which we have achieved bove are subject to user's PC or desktop system configurations, in case of better system\n",
    "# confuguration , better accuracy would have been achieved above. Its subject to user's PC's or desktop's  RAM, graphic car,\n",
    " # GPU etc configuration."
   ]
  },
  {
   "cell_type": "code",
   "execution_count": 29,
   "id": "0764b940",
   "metadata": {},
   "outputs": [],
   "source": [
    "# As a convolution base will work in many similar classification scenarios, so, we can import many award winning bases in our\n",
    "# model to increase our accuracy. This method of importing award winning convolution bases using keras or other sources to \n",
    "# increase ones model's accuracy is called as 'Transfer Learning'."
   ]
  },
  {
   "cell_type": "code",
   "execution_count": 30,
   "id": "9c8611ff",
   "metadata": {},
   "outputs": [
    {
     "name": "stdout",
     "output_type": "stream",
     "text": [
      "Found 2000 images belonging to 2 classes.\n",
      "Found 1000 images belonging to 2 classes.\n"
     ]
    }
   ],
   "source": [
    "from tensorflow.keras.preprocessing.image import ImageDataGenerator\n",
    "\n",
    "train_datagen= ImageDataGenerator(\n",
    "              rescale= 1./255,\n",
    "              rotation_range=40,\n",
    "              width_shift_range=0.2,\n",
    "              height_shift_range=0.2,\n",
    "              shear_range=0.2,\n",
    "              zoom_range=0.2,\n",
    "              horizontal_flip=True\n",
    ")\n",
    "\n",
    "test_datagen= ImageDataGenerator(rescale= 1./255)\n",
    "\n",
    "train_generator= train_datagen.flow_from_directory(\n",
    "      train_dir,\n",
    "      target_size=(150,150),\n",
    "      batch_size=20,\n",
    "      class_mode='binary'\n",
    ")\n",
    "validation_generator=test_datagen.flow_from_directory(\n",
    "      validation_dir,\n",
    "      target_size=(150,150),\n",
    "      batch_size=20,\n",
    "      class_mode='binary'\n",
    ")"
   ]
  },
  {
   "cell_type": "markdown",
   "id": "6fa1b6c4",
   "metadata": {},
   "source": [
    "# Using VGG16 Convolution Base:"
   ]
  },
  {
   "cell_type": "code",
   "execution_count": 31,
   "id": "fda4a0fa",
   "metadata": {},
   "outputs": [],
   "source": [
    "#importing convolution base architecture from VGG16:\n",
    "from tensorflow.keras.applications import VGG16\n",
    "\n",
    "conv_base= VGG16(weights='imagenet', \n",
    "# as we generally provide random weights and it gets accurate inside the model but here as we are importing the convolution base\n",
    "# we need that particularly most accurate weights for much higher accuracy, those particular values of weights are  called\n",
    "# as 'imagenet' as this model was winner of ILSVRC i.e. Imagenet Large Scale Visual Recognition Challenge.                 \n",
    "                 include_top=False, \n",
    "# We only need convolution base and not fully connected neural network part so, we do not include 'top'.                 \n",
    "                 input_shape=(150,150,3))\n",
    "# 3 for filters as it is a colorful image."
   ]
  },
  {
   "cell_type": "code",
   "execution_count": 32,
   "id": "33848d45",
   "metadata": {},
   "outputs": [
    {
     "name": "stdout",
     "output_type": "stream",
     "text": [
      "Model: \"vgg16\"\n",
      "_________________________________________________________________\n",
      " Layer (type)                Output Shape              Param #   \n",
      "=================================================================\n",
      " input_1 (InputLayer)        [(None, 150, 150, 3)]     0         \n",
      "                                                                 \n",
      " block1_conv1 (Conv2D)       (None, 150, 150, 64)      1792      \n",
      "                                                                 \n",
      " block1_conv2 (Conv2D)       (None, 150, 150, 64)      36928     \n",
      "                                                                 \n",
      " block1_pool (MaxPooling2D)  (None, 75, 75, 64)        0         \n",
      "                                                                 \n",
      " block2_conv1 (Conv2D)       (None, 75, 75, 128)       73856     \n",
      "                                                                 \n",
      " block2_conv2 (Conv2D)       (None, 75, 75, 128)       147584    \n",
      "                                                                 \n",
      " block2_pool (MaxPooling2D)  (None, 37, 37, 128)       0         \n",
      "                                                                 \n",
      " block3_conv1 (Conv2D)       (None, 37, 37, 256)       295168    \n",
      "                                                                 \n",
      " block3_conv2 (Conv2D)       (None, 37, 37, 256)       590080    \n",
      "                                                                 \n",
      " block3_conv3 (Conv2D)       (None, 37, 37, 256)       590080    \n",
      "                                                                 \n",
      " block3_pool (MaxPooling2D)  (None, 18, 18, 256)       0         \n",
      "                                                                 \n",
      " block4_conv1 (Conv2D)       (None, 18, 18, 512)       1180160   \n",
      "                                                                 \n",
      " block4_conv2 (Conv2D)       (None, 18, 18, 512)       2359808   \n",
      "                                                                 \n",
      " block4_conv3 (Conv2D)       (None, 18, 18, 512)       2359808   \n",
      "                                                                 \n",
      " block4_pool (MaxPooling2D)  (None, 9, 9, 512)         0         \n",
      "                                                                 \n",
      " block5_conv1 (Conv2D)       (None, 9, 9, 512)         2359808   \n",
      "                                                                 \n",
      " block5_conv2 (Conv2D)       (None, 9, 9, 512)         2359808   \n",
      "                                                                 \n",
      " block5_conv3 (Conv2D)       (None, 9, 9, 512)         2359808   \n",
      "                                                                 \n",
      " block5_pool (MaxPooling2D)  (None, 4, 4, 512)         0         \n",
      "                                                                 \n",
      "=================================================================\n",
      "Total params: 14,714,688\n",
      "Trainable params: 14,714,688\n",
      "Non-trainable params: 0\n",
      "_________________________________________________________________\n"
     ]
    }
   ],
   "source": [
    "conv_base.summary()"
   ]
  },
  {
   "cell_type": "code",
   "execution_count": 33,
   "id": "530e8eff",
   "metadata": {},
   "outputs": [],
   "source": [
    "# As seen from summary, this VGG16 model has 'convolution blocks'. A convolution block consists of many convolution layers.\n",
    "# like first and second convolution blocks have 2 convolution layers.\n",
    "# And third, fourth and fifth blocks have 3 convolution layers each."
   ]
  },
  {
   "cell_type": "code",
   "execution_count": 34,
   "id": "b8fe66ff",
   "metadata": {},
   "outputs": [],
   "source": [
    "# Creating model:\n",
    "# Earlier we have only imported VGG architecture and stored it in 'conv_base'.\n",
    "from tensorflow.keras import models\n",
    "from tensorflow.keras import layers\n",
    "\n",
    "model= models.Sequential()\n",
    "model.add(conv_base) # added VGG16 convolutionary base\n",
    "# Adding Fully connected neural network:\n",
    "model.add(layers.Flatten())\n",
    "model.add(layers.Dense(256,activation='relu'))\n",
    "model.add(layers.Dense(1,activation='sigmoid'))"
   ]
  },
  {
   "cell_type": "code",
   "execution_count": 35,
   "id": "4be255ff",
   "metadata": {},
   "outputs": [
    {
     "name": "stdout",
     "output_type": "stream",
     "text": [
      "Model: \"sequential_1\"\n",
      "_________________________________________________________________\n",
      " Layer (type)                Output Shape              Param #   \n",
      "=================================================================\n",
      " vgg16 (Functional)          (None, 4, 4, 512)         14714688  \n",
      "                                                                 \n",
      " flatten_1 (Flatten)         (None, 8192)              0         \n",
      "                                                                 \n",
      " dense_2 (Dense)             (None, 256)               2097408   \n",
      "                                                                 \n",
      " dense_3 (Dense)             (None, 1)                 257       \n",
      "                                                                 \n",
      "=================================================================\n",
      "Total params: 16,812,353\n",
      "Trainable params: 16,812,353\n",
      "Non-trainable params: 0\n",
      "_________________________________________________________________\n"
     ]
    }
   ],
   "source": [
    "model.summary()"
   ]
  },
  {
   "cell_type": "code",
   "execution_count": 36,
   "id": "7cb84321",
   "metadata": {},
   "outputs": [],
   "source": [
    "# so, VGG16 has approximately 14 million trainable parameters ,these are kept trainable so, that our accuracy is more. But these\n",
    "# increase runtime of the program, in order to optimize time one can set these parameters to non-trainable. So, at the VGG16\n",
    "# Param# columns we will see 0 and hence , Total params will be only 2097408+ 257 =approx 2 million ,so, our runtime will be \n",
    "# reduced significantly.\n",
    "\n",
    "# In order to make VGG16 parameters as non-trainable set:\n",
    "# conv_base.trainable=False"
   ]
  },
  {
   "cell_type": "code",
   "execution_count": 37,
   "id": "a6d20967",
   "metadata": {},
   "outputs": [],
   "source": [
    "from tensorflow.keras import optimizers\n",
    "model.compile(loss='binary_crossentropy',\n",
    "             optimizer=optimizers.RMSprop(lr=2e-5),\n",
    "             metrics=['acc'])"
   ]
  },
  {
   "cell_type": "code",
   "execution_count": 38,
   "id": "4cdf6db6",
   "metadata": {},
   "outputs": [],
   "source": [
    "checkpoint_cb= keras.callbacks.ModelCheckpoint(\"CNN_Project_Model-{epoch:02d}.h5\")"
   ]
  },
  {
   "cell_type": "code",
   "execution_count": 39,
   "id": "b2a8ae9b",
   "metadata": {},
   "outputs": [
    {
     "name": "stdout",
     "output_type": "stream",
     "text": [
      "Epoch 1/30\n"
     ]
    },
    {
     "name": "stderr",
     "output_type": "stream",
     "text": [
      "C:\\Users\\apurv\\AppData\\Local\\Temp\\ipykernel_11936\\2540134950.py:1: UserWarning: `Model.fit_generator` is deprecated and will be removed in a future version. Please use `Model.fit`, which supports generators.\n",
      "  history= model.fit_generator(\n"
     ]
    },
    {
     "name": "stdout",
     "output_type": "stream",
     "text": [
      "100/100 [==============================] - 976s 10s/step - loss: 0.4712 - acc: 0.7740 - val_loss: 0.2024 - val_acc: 0.9140\n",
      "Epoch 2/30\n",
      "100/100 [==============================] - 997s 10s/step - loss: 0.2759 - acc: 0.8890 - val_loss: 0.2527 - val_acc: 0.8910\n",
      "Epoch 3/30\n",
      "100/100 [==============================] - 1114s 11s/step - loss: 0.2125 - acc: 0.9185 - val_loss: 0.1060 - val_acc: 0.9600\n",
      "Epoch 4/30\n",
      "100/100 [==============================] - 1201s 12s/step - loss: 0.1788 - acc: 0.9265 - val_loss: 0.1034 - val_acc: 0.9670\n",
      "Epoch 5/30\n",
      "100/100 [==============================] - 1108s 11s/step - loss: 0.1538 - acc: 0.9410 - val_loss: 0.2418 - val_acc: 0.9030\n",
      "Epoch 6/30\n",
      "100/100 [==============================] - 988s 10s/step - loss: 0.1419 - acc: 0.9505 - val_loss: 0.0795 - val_acc: 0.9700\n",
      "Epoch 7/30\n",
      "100/100 [==============================] - 1037s 10s/step - loss: 0.1208 - acc: 0.9505 - val_loss: 0.1881 - val_acc: 0.9370\n",
      "Epoch 8/30\n",
      "100/100 [==============================] - 917s 9s/step - loss: 0.1059 - acc: 0.9590 - val_loss: 0.0871 - val_acc: 0.9670\n",
      "Epoch 9/30\n",
      "100/100 [==============================] - 1050s 10s/step - loss: 0.0989 - acc: 0.9615 - val_loss: 0.1050 - val_acc: 0.9650\n",
      "Epoch 10/30\n",
      "100/100 [==============================] - 1124s 11s/step - loss: 0.0924 - acc: 0.9685 - val_loss: 0.0972 - val_acc: 0.9650\n",
      "Epoch 11/30\n",
      "100/100 [==============================] - 1211s 12s/step - loss: 0.0778 - acc: 0.9720 - val_loss: 0.1046 - val_acc: 0.9650\n",
      "Epoch 12/30\n",
      "100/100 [==============================] - 1371s 14s/step - loss: 0.0756 - acc: 0.9715 - val_loss: 0.0973 - val_acc: 0.9610\n",
      "Epoch 13/30\n",
      "100/100 [==============================] - 1103s 11s/step - loss: 0.0770 - acc: 0.9710 - val_loss: 0.0903 - val_acc: 0.9720\n",
      "Epoch 14/30\n",
      "100/100 [==============================] - 1214s 12s/step - loss: 0.0618 - acc: 0.9795 - val_loss: 0.0934 - val_acc: 0.9680\n",
      "Epoch 15/30\n",
      "100/100 [==============================] - 1053s 11s/step - loss: 0.0525 - acc: 0.9825 - val_loss: 0.1422 - val_acc: 0.9660\n",
      "Epoch 16/30\n",
      "100/100 [==============================] - 1053s 11s/step - loss: 0.0614 - acc: 0.9765 - val_loss: 0.0811 - val_acc: 0.9730\n",
      "Epoch 17/30\n",
      "100/100 [==============================] - 1202s 12s/step - loss: 0.0540 - acc: 0.9820 - val_loss: 0.0984 - val_acc: 0.9690\n",
      "Epoch 18/30\n",
      "100/100 [==============================] - 1114s 11s/step - loss: 0.0480 - acc: 0.9840 - val_loss: 0.1482 - val_acc: 0.9690\n",
      "Epoch 19/30\n",
      "100/100 [==============================] - 1474s 15s/step - loss: 0.0582 - acc: 0.9825 - val_loss: 0.0985 - val_acc: 0.9710\n",
      "Epoch 20/30\n",
      "100/100 [==============================] - 1169s 12s/step - loss: 0.0343 - acc: 0.9870 - val_loss: 0.1401 - val_acc: 0.9720\n",
      "Epoch 21/30\n",
      "100/100 [==============================] - 912s 9s/step - loss: 0.0471 - acc: 0.9820 - val_loss: 0.0805 - val_acc: 0.9700\n",
      "Epoch 22/30\n",
      "100/100 [==============================] - 929s 9s/step - loss: 0.0457 - acc: 0.9840 - val_loss: 0.0916 - val_acc: 0.9690\n",
      "Epoch 23/30\n",
      "100/100 [==============================] - 875s 9s/step - loss: 0.0371 - acc: 0.9875 - val_loss: 0.0929 - val_acc: 0.9730\n",
      "Epoch 24/30\n",
      "100/100 [==============================] - 1081s 11s/step - loss: 0.0497 - acc: 0.9825 - val_loss: 0.1291 - val_acc: 0.9660\n",
      "Epoch 25/30\n",
      "100/100 [==============================] - 3495s 35s/step - loss: 0.0279 - acc: 0.9885 - val_loss: 0.1288 - val_acc: 0.9700\n",
      "Epoch 26/30\n",
      "100/100 [==============================] - 1049s 10s/step - loss: 0.0468 - acc: 0.9865 - val_loss: 0.0905 - val_acc: 0.9710\n",
      "Epoch 27/30\n",
      "100/100 [==============================] - 1058s 11s/step - loss: 0.0338 - acc: 0.9875 - val_loss: 0.1288 - val_acc: 0.9710\n",
      "Epoch 28/30\n",
      "100/100 [==============================] - 873s 9s/step - loss: 0.0474 - acc: 0.9845 - val_loss: 0.1674 - val_acc: 0.9650\n",
      "Epoch 29/30\n",
      "100/100 [==============================] - 1130s 11s/step - loss: 0.0464 - acc: 0.9870 - val_loss: 0.1521 - val_acc: 0.9650\n",
      "Epoch 30/30\n",
      "100/100 [==============================] - 1357s 14s/step - loss: 0.0404 - acc: 0.9850 - val_loss: 0.1240 - val_acc: 0.9740\n"
     ]
    }
   ],
   "source": [
    "history= model.fit_generator(\n",
    "        train_generator,\n",
    "        steps_per_epoch=100,\n",
    "        epochs=30,\n",
    "        validation_data=validation_generator,\n",
    "        validation_steps=50,\n",
    "        callbacks=[checkpoint_cb])"
   ]
  },
  {
   "cell_type": "code",
   "execution_count": 43,
   "id": "3f6d68e8",
   "metadata": {},
   "outputs": [
    {
     "data": {
      "image/png": "[encoded data removed]",
      "text/plain": [
       "<Figure size 800x500 with 1 Axes>"
      ]
     },
     "metadata": {},
     "output_type": "display_data"
    }
   ],
   "source": [
    "pd.DataFrame(history.history).plot(figsize=(8,5))\n",
    "plt.grid(True)\n",
    "plt.gca().set_ylim(0,1)\n",
    "plt.show()"
   ]
  },
  {
   "cell_type": "code",
   "execution_count": 44,
   "id": "701e11ce",
   "metadata": {},
   "outputs": [],
   "source": [
    "# As validation accuracy and training accuracy is approximately convergent so, we have achieved convergence and there is no\n",
    "# overfitting here."
   ]
  },
  {
   "cell_type": "code",
   "execution_count": 46,
   "id": "3f5da0af",
   "metadata": {},
   "outputs": [],
   "source": [
    "# Now, checking our model on testing data"
   ]
  },
  {
   "cell_type": "code",
   "execution_count": 47,
   "id": "0a1e7c8a",
   "metadata": {},
   "outputs": [
    {
     "name": "stdout",
     "output_type": "stream",
     "text": [
      "Found 1000 images belonging to 2 classes.\n"
     ]
    }
   ],
   "source": [
    "test_generator= test_datagen.flow_from_directory(\n",
    "              test_dir,\n",
    "              target_size=(150,150),\n",
    "              batch_size=20,\n",
    "              class_mode='binary'\n",
    ")"
   ]
  },
  {
   "cell_type": "code",
   "execution_count": 48,
   "id": "fbcc5f9d",
   "metadata": {},
   "outputs": [
    {
     "name": "stderr",
     "output_type": "stream",
     "text": [
      "C:\\Users\\apurv\\AppData\\Local\\Temp\\ipykernel_11936\\2075860562.py:1: UserWarning: `Model.evaluate_generator` is deprecated and will be removed in a future version. Please use `Model.evaluate`, which supports generators.\n",
      "  model.evaluate_generator(test_generator,steps=50)\n"
     ]
    },
    {
     "data": {
      "text/plain": [
       "[0.13785682618618011, 0.972000002861023]"
      ]
     },
     "execution_count": 48,
     "metadata": {},
     "output_type": "execute_result"
    }
   ],
   "source": [
    "model.evaluate_generator(test_generator,steps=50) \n",
    "# Total images in testing set =1000= 50 x 20 = steps x batch_size"
   ]
  },
  {
   "cell_type": "code",
   "execution_count": 49,
   "id": "4dce4c6b",
   "metadata": {},
   "outputs": [],
   "source": [
    "# Using Transfer learning technique i.e. using VGG16 model we have achieved an astonishing accuracy of 97.2%."
   ]
  },
  {
   "cell_type": "markdown",
   "id": "62628ce2",
   "metadata": {},
   "source": [
    "# Accuracy achieved = 97.2%"
   ]
  }
 ],
 "metadata": {
  "kernelspec": {
   "display_name": "Python 3 (ipykernel)",
   "language": "python",
   "name": "python3"
  },
  "language_info": {
   "codemirror_mode": {
    "name": "ipython",
    "version": 3
   },
   "file_extension": ".py",
   "mimetype": "text/x-python",
   "name": "python",
   "nbconvert_exporter": "python",
   "pygments_lexer": "ipython3",
   "version": "3.9.13"
  }
 },
 "nbformat": 4,
 "nbformat_minor": 5
}
